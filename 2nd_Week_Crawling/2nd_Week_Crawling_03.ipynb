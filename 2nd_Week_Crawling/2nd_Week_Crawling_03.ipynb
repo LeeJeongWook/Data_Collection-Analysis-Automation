{
 "cells": [
  {
   "cell_type": "code",
   "execution_count": 1,
   "id": "c6938722",
   "metadata": {},
   "outputs": [],
   "source": [
    "import chromedriver_autoinstaller\n",
    "from selenium import webdriver\n",
    "from bs4 import BeautifulSoup\n",
    "\n",
    "chromedriver_autoinstaller.install() # chromedriver 최신버전설치\n",
    "browser = webdriver.Chrome()    # 브라우저 열기"
   ]
  },
  {
   "cell_type": "code",
   "execution_count": 2,
   "id": "820efbf4",
   "metadata": {},
   "outputs": [],
   "source": [
    "url = 'https://youtube-rank.com/board/bbs/board.php?bo_table=youtube&page=1'\n",
    "browser.get(url)"
   ]
  },
  {
   "cell_type": "markdown",
   "id": "dc0b10d4",
   "metadata": {},
   "source": [
    "뉴스\n",
    "    - 제목\n",
    "    - 신문사\n",
    "\n",
    "유튜브랭킹\n",
    "    - 채널1\n",
    "        - 채널명\n",
    "        - 카테고리\n",
    "        - 구독자수...\n",
    "    - 채널2\n",
    "    - 채널3\n",
    "    ...."
   ]
  },
  {
   "cell_type": "code",
   "execution_count": 3,
   "id": "3e30dcb1",
   "metadata": {},
   "outputs": [],
   "source": [
    "soup = BeautifulSoup(browser.page_source, \"html.parser\")"
   ]
  },
  {
   "cell_type": "code",
   "execution_count": 10,
   "id": "90f575fe",
   "metadata": {},
   "outputs": [
    {
     "data": {
      "text/plain": [
       "100"
      ]
     },
     "execution_count": 10,
     "metadata": {},
     "output_type": "execute_result"
    }
   ],
   "source": [
    "channel_list = soup.select('form > table > tbody > tr')\n",
    "len(channel_list)"
   ]
  },
  {
   "cell_type": "code",
   "execution_count": 5,
   "id": "5562eb4d",
   "metadata": {},
   "outputs": [
    {
     "data": {
      "text/plain": [
       "100"
      ]
     },
     "execution_count": 5,
     "metadata": {},
     "output_type": "execute_result"
    }
   ],
   "source": [
    "channel_list_2 = soup.select('td>h1')\n",
    "len(channel_list_2)"
   ]
  },
  {
   "cell_type": "code",
   "execution_count": 15,
   "id": "115e9b96",
   "metadata": {},
   "outputs": [
    {
     "data": {
      "text/plain": [
       "<a href=\"https://youtube-rank.com/board/bbs/board.php?bo_table=youtube&amp;wr_id=3203&amp;page=1\"><img class=\"lazyload\" data-src=\"https://yt3.ggpht.com/ytc/AKedOLReDErFqqi70z9AXcMzf9Hho9OU1dSciqFYDoGJPQ=s88-c-k-c0x00ffffff-no-rj-mo\" height=\"88\" src=\"https://yt3.ggpht.com/ytc/AKedOLReDErFqqi70z9AXcMzf9Hho9OU1dSciqFYDoGJPQ=s88-c-k-c0x00ffffff-no-rj-mo\" width=\"88\"/></a>"
      ]
     },
     "execution_count": 15,
     "metadata": {},
     "output_type": "execute_result"
    }
   ],
   "source": [
    "channel = channel_list[0]\n",
    "title = channel.select('a')[0]\n",
    "title"
   ]
  },
  {
   "cell_type": "code",
   "execution_count": 16,
   "id": "13f22349",
   "metadata": {},
   "outputs": [
    {
     "data": {
      "text/plain": [
       "100"
      ]
     },
     "execution_count": 16,
     "metadata": {},
     "output_type": "execute_result"
    }
   ],
   "source": [
    "# 쉬어가기\n",
    "len(soup.select('tr.aos-init'))"
   ]
  },
  {
   "cell_type": "code",
   "execution_count": 17,
   "id": "f14aa00e",
   "metadata": {},
   "outputs": [
    {
     "data": {
      "text/plain": [
       "<tr class=\"aos-init aos-animate\" data-aos=\"fade-up\" data-aos-duration=\"800\">\n",
       "<td class=\"rank\">\n",
       "                        1                    </td>\n",
       "<td class=\"td_img\">\n",
       "<div class=\"info_img\"><a href=\"https://youtube-rank.com/board/bbs/board.php?bo_table=youtube&amp;wr_id=3203&amp;page=1\"><img class=\"lazyload\" data-src=\"https://yt3.ggpht.com/ytc/AKedOLReDErFqqi70z9AXcMzf9Hho9OU1dSciqFYDoGJPQ=s88-c-k-c0x00ffffff-no-rj-mo\" height=\"88\" src=\"https://yt3.ggpht.com/ytc/AKedOLReDErFqqi70z9AXcMzf9Hho9OU1dSciqFYDoGJPQ=s88-c-k-c0x00ffffff-no-rj-mo\" width=\"88\"/></a></div>\n",
       "<p class=\"info_rank\">1</p>\n",
       "</td>\n",
       "<td class=\"subject\">\n",
       "<h1>\n",
       "<p <a=\"\" class=\"category\" href=\"https://youtube-rank.com/board/bbs/board.php?bo_table=youtube&amp;sca=%EC%9D%8C%EC%95%85%2F%EB%8C%84%EC%8A%A4%2F%EA%B0%80%EC%88%98\">[음악/댄스/가수]\n",
       "                                \n",
       "                                </p>\n",
       "<a href=\"https://youtube-rank.com/board/bbs/board.php?bo_table=youtube&amp;wr_id=3203&amp;page=1\">\n",
       "\t\t\t\t\t\t\t\t\n",
       "\t\t\t\t\t\t\t\tBLACKPINK\t\t\t\t\t\t\t</a>\n",
       "<span>\n",
       "<i class=\"fa fa-comment\"></i>\n",
       "\t\t\t\t\t\t\t\t1\t\t\t\t\t\t\t</span>\n",
       "<i aria-hidden=\"true\" class=\"fa fa-heart\"></i> </h1>\n",
       "<h2><span><a href=\"https://youtube-rank.com/board/bbs/board.php?bo_table=youtube&amp;wr_id=3203&amp;page=1\">\"YG Entertainment\" YG 와이지 K-pop BLACKPINK 블랙핑크 블핑 제니 로제 리사 지수 Lisa Jisoo Jennie ...</a></span></h2>\n",
       "<h3>\n",
       "<i class=\"fa fa-user\"></i>\n",
       "                            7360만<i class=\"fa fa-play\"></i>233억1805만                            <i class=\"fa fa-video-camera\"></i>\n",
       "                            394                            <i class=\"fa fa-eye\"></i>\n",
       "                            20,046                        </h3>\n",
       "</td>\n",
       "<td class=\"subscriber_cnt\">7360만</td>\n",
       "<td class=\"view_cnt\">233억1805만</td>\n",
       "<td class=\"video_cnt\">394개</td>\n",
       "<td class=\"hit\">\n",
       "<strong>20,046</strong>\n",
       "<span>HIT</span>\n",
       "</td>\n",
       "</tr>"
      ]
     },
     "execution_count": 17,
     "metadata": {},
     "output_type": "execute_result"
    }
   ],
   "source": [
    "channel = channel_list[0]\n",
    "channel"
   ]
  },
  {
   "cell_type": "code",
   "execution_count": 18,
   "id": "c78d3570",
   "metadata": {},
   "outputs": [
    {
     "data": {
      "text/plain": [
       "[<a href=\"https://youtube-rank.com/board/bbs/board.php?bo_table=youtube&amp;wr_id=3203&amp;page=1\"><img class=\"lazyload\" data-src=\"https://yt3.ggpht.com/ytc/AKedOLReDErFqqi70z9AXcMzf9Hho9OU1dSciqFYDoGJPQ=s88-c-k-c0x00ffffff-no-rj-mo\" height=\"88\" src=\"https://yt3.ggpht.com/ytc/AKedOLReDErFqqi70z9AXcMzf9Hho9OU1dSciqFYDoGJPQ=s88-c-k-c0x00ffffff-no-rj-mo\" width=\"88\"/></a>,\n",
       " <a href=\"https://youtube-rank.com/board/bbs/board.php?bo_table=youtube&amp;wr_id=3203&amp;page=1\">\n",
       " \t\t\t\t\t\t\t\t\n",
       " \t\t\t\t\t\t\t\tBLACKPINK\t\t\t\t\t\t\t</a>,\n",
       " <a href=\"https://youtube-rank.com/board/bbs/board.php?bo_table=youtube&amp;wr_id=3203&amp;page=1\">\"YG Entertainment\" YG 와이지 K-pop BLACKPINK 블랙핑크 블핑 제니 로제 리사 지수 Lisa Jisoo Jennie ...</a>]"
      ]
     },
     "execution_count": 18,
     "metadata": {},
     "output_type": "execute_result"
    }
   ],
   "source": [
    "channel.select('a')"
   ]
  },
  {
   "cell_type": "code",
   "execution_count": 19,
   "id": "d5eee5ee",
   "metadata": {},
   "outputs": [
    {
     "data": {
      "text/plain": [
       "'BLACKPINK'"
      ]
     },
     "execution_count": 19,
     "metadata": {},
     "output_type": "execute_result"
    }
   ],
   "source": [
    "channel = channel_list[0]\n",
    "title = channel.select('h1 > a')[0].text.strip()\n",
    "title"
   ]
  },
  {
   "cell_type": "code",
   "execution_count": 21,
   "id": "6244597f",
   "metadata": {},
   "outputs": [
    {
     "data": {
      "text/plain": [
       "'[음악/댄스/가수]'"
      ]
     },
     "execution_count": 21,
     "metadata": {},
     "output_type": "execute_result"
    }
   ],
   "source": [
    "#  카테고리\n",
    "category = channel.select('p.category')[0].text.strip()\n",
    "category"
   ]
  },
  {
   "cell_type": "code",
   "execution_count": 33,
   "id": "b93fa9e4",
   "metadata": {},
   "outputs": [
    {
     "data": {
      "text/plain": [
       "'7360만'"
      ]
     },
     "execution_count": 33,
     "metadata": {},
     "output_type": "execute_result"
    }
   ],
   "source": [
    "# 구독자 수\n",
    "subscriber = channel.select('td.subscriber_cnt')[0].text.strip()\n",
    "subscriber"
   ]
  },
  {
   "cell_type": "code",
   "execution_count": 34,
   "id": "bbeb03d8",
   "metadata": {},
   "outputs": [
    {
     "data": {
      "text/plain": [
       "'233억1805만'"
      ]
     },
     "execution_count": 34,
     "metadata": {},
     "output_type": "execute_result"
    }
   ],
   "source": [
    "# view 수\n",
    "view = channel.select('td.view_cnt')[0].text.strip()\n",
    "view"
   ]
  },
  {
   "cell_type": "code",
   "execution_count": 35,
   "id": "a1ed7390",
   "metadata": {},
   "outputs": [
    {
     "data": {
      "text/plain": [
       "'394개'"
      ]
     },
     "execution_count": 35,
     "metadata": {},
     "output_type": "execute_result"
    }
   ],
   "source": [
    "# video 수\n",
    "video = channel.select('td.video_cnt')[0].text.strip()\n",
    "video"
   ]
  },
  {
   "cell_type": "code",
   "execution_count": 40,
   "id": "fe80608f",
   "metadata": {},
   "outputs": [],
   "source": [
    "import time, random\n"
   ]
  },
  {
   "cell_type": "code",
   "execution_count": 42,
   "id": "cdc15dd3",
   "metadata": {},
   "outputs": [],
   "source": [
    "results = []\n",
    "\n",
    "for page in range(1,11):\n",
    "    url = f'https://youtube-rank.com/board/bbs/board.php?bo_table=youtube&page={page}'\n",
    "    browser.get(url)\n",
    "    time.sleep(0.5)\n",
    "    soup = BeautifulSoup(browser.page_source, \"html.parser\")\n",
    "    channel_list = soup.select('form > table > tbody > tr')\n",
    "    for channel in channel_list:\n",
    "        title = channel.select('h1 > a')[0].text.strip()\n",
    "        category = channel.select('p.category')[0].text.strip()\n",
    "        subscriber = channel.select('td.subscriber_cnt')[0].text.strip()\n",
    "        view = channel.select('td.view_cnt')[0].text.strip()\n",
    "        video = channel.select('td.video_cnt')[0].text.strip()\n",
    "        #     print(title, category, subscriber, view, video)\n",
    "        data = [title, category, subscriber, view, video]\n",
    "    results.append(data)"
   ]
  },
  {
   "cell_type": "code",
   "execution_count": 43,
   "id": "aa1d08ee",
   "metadata": {},
   "outputs": [],
   "source": [
    "import pandas as pd\n",
    "df = pd.DataFrame(results)\n",
    "df.columns = ['채널명','카테고리','구독자수','조회수','영상수']\n",
    "df.to_excel('./유튜브채널정보.xlsx', index = False)"
   ]
  },
  {
   "cell_type": "code",
   "execution_count": 47,
   "id": "7b9543f2",
   "metadata": {},
   "outputs": [],
   "source": [
    "browser.get('https://naver.com')"
   ]
  },
  {
   "cell_type": "code",
   "execution_count": 54,
   "id": "c4ee35e7",
   "metadata": {},
   "outputs": [
    {
     "name": "stderr",
     "output_type": "stream",
     "text": [
      "/var/folders/t9/xwt11y1x3v15mbvgvf002ntw0000gn/T/ipykernel_7097/1739513841.py:1: DeprecationWarning: find_elements_by_css_selector is deprecated. Please use find_elements(by=By.CSS_SELECTOR, value=css_selector) instead\n",
      "  word_part = browser.find_elements_by_css_selector('#query')[0]\n"
     ]
    }
   ],
   "source": [
    "word_part = browser.find_elements_by_css_selector('#query')[0]"
   ]
  },
  {
   "cell_type": "code",
   "execution_count": 56,
   "id": "28409e08",
   "metadata": {},
   "outputs": [],
   "source": [
    "word_part.clear()\n",
    "word_part.send_keys('파이썬')"
   ]
  },
  {
   "cell_type": "code",
   "execution_count": 58,
   "id": "87d75e44",
   "metadata": {},
   "outputs": [
    {
     "name": "stderr",
     "output_type": "stream",
     "text": [
      "/var/folders/t9/xwt11y1x3v15mbvgvf002ntw0000gn/T/ipykernel_7097/1757353854.py:1: DeprecationWarning: find_elements_by_css_selector is deprecated. Please use find_elements(by=By.CSS_SELECTOR, value=css_selector) instead\n",
      "  go_btn = browser.find_elements_by_css_selector('#search_btn')[0]\n"
     ]
    }
   ],
   "source": [
    "go_btn = browser.find_elements_by_css_selector('#search_btn')[0]\n",
    "go_btn.click()"
   ]
  },
  {
   "cell_type": "code",
   "execution_count": 63,
   "id": "2d69302c",
   "metadata": {},
   "outputs": [
    {
     "name": "stderr",
     "output_type": "stream",
     "text": [
      "/var/folders/t9/xwt11y1x3v15mbvgvf002ntw0000gn/T/ipykernel_7097/390184774.py:1: DeprecationWarning: find_elements_by_css_selector is deprecated. Please use find_elements(by=By.CSS_SELECTOR, value=css_selector) instead\n",
      "  body = browser.find_elements_by_css_selector('body')[0]\n"
     ]
    }
   ],
   "source": [
    "body = browser.find_elements_by_css_selector('body')[0]"
   ]
  },
  {
   "cell_type": "code",
   "execution_count": 62,
   "id": "f1379759",
   "metadata": {},
   "outputs": [],
   "source": [
    "from selenium import webdriver\n",
    "from selenium.webdriver.common.keys import Keys"
   ]
  },
  {
   "cell_type": "code",
   "execution_count": null,
   "id": "f0005fd0",
   "metadata": {},
   "outputs": [],
   "source": []
  },
  {
   "cell_type": "code",
   "execution_count": null,
   "id": "38123017",
   "metadata": {},
   "outputs": [],
   "source": []
  },
  {
   "cell_type": "code",
   "execution_count": null,
   "id": "2828a40d",
   "metadata": {},
   "outputs": [],
   "source": []
  },
  {
   "cell_type": "code",
   "execution_count": null,
   "id": "3b1a7a4d",
   "metadata": {},
   "outputs": [],
   "source": []
  }
 ],
 "metadata": {
  "kernelspec": {
   "display_name": "Python 3 (ipykernel)",
   "language": "python",
   "name": "python3"
  },
  "language_info": {
   "codemirror_mode": {
    "name": "ipython",
    "version": 3
   },
   "file_extension": ".py",
   "mimetype": "text/x-python",
   "name": "python",
   "nbconvert_exporter": "python",
   "pygments_lexer": "ipython3",
   "version": "3.9.7"
  }
 },
 "nbformat": 4,
 "nbformat_minor": 5
}
