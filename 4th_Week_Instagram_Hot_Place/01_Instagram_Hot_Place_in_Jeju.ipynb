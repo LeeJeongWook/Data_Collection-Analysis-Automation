{
 "cells": [
  {
   "cell_type": "code",
   "execution_count": 117,
   "id": "d993302e",
   "metadata": {},
   "outputs": [],
   "source": [
    "# 예제 5-1 chromedriver 열기\n",
    "import chromedriver_autoinstaller\n",
    "from selenium import webdriver\n",
    "\n",
    "chromedriver_autoinstaller.install()\n",
    "driver = webdriver.Chrome()"
   ]
  },
  {
   "cell_type": "code",
   "execution_count": 119,
   "id": "84271171",
   "metadata": {},
   "outputs": [],
   "source": [
    "# 예제 5-2 인스타그램 접속하기\n",
    "import time\n",
    "driver.get('https://www.instagram.com/')"
   ]
  },
  {
   "cell_type": "code",
   "execution_count": 115,
   "id": "bdecd263",
   "metadata": {},
   "outputs": [
    {
     "data": {
      "text/plain": [
       "\"\\nbutton = driver.find_element_by_css_selector('#details-button')\\nbutton.click()\\nlink = driver.find_element_by_css_selector('#proceed-link')\\nlink.click()\\n\""
      ]
     },
     "execution_count": 115,
     "metadata": {},
     "output_type": "execute_result"
    }
   ],
   "source": [
    "# driver.get('#') 작동안함\n",
    "# 브라우저에서 경고창이 뜰 경우 넘어가는 코드\n",
    "'''\n",
    "button = driver.find_element_by_css_selector('#details-button')\n",
    "button.click()\n",
    "link = driver.find_element_by_css_selector('#proceed-link')\n",
    "link.click()\n",
    "'''"
   ]
  },
  {
   "cell_type": "code",
   "execution_count": 122,
   "id": "dadef510",
   "metadata": {},
   "outputs": [
    {
     "name": "stderr",
     "output_type": "stream",
     "text": [
      "/var/folders/t9/xwt11y1x3v15mbvgvf002ntw0000gn/T/ipykernel_2335/1086358957.py:6: DeprecationWarning: find_elements_by_css_selector is deprecated. Please use find_elements(by=By.CSS_SELECTOR, value=css_selector) instead\n",
      "  input_id = driver.find_elements_by_css_selector('input._2hvTZ.pexuQ.zyHYP')[0]\n"
     ]
    },
    {
     "ename": "IndexError",
     "evalue": "list index out of range",
     "output_type": "error",
     "traceback": [
      "\u001b[0;31m---------------------------------------------------------------------------\u001b[0m",
      "\u001b[0;31mIndexError\u001b[0m                                Traceback (most recent call last)",
      "\u001b[0;32m/var/folders/t9/xwt11y1x3v15mbvgvf002ntw0000gn/T/ipykernel_2335/1086358957.py\u001b[0m in \u001b[0;36m<module>\u001b[0;34m\u001b[0m\n\u001b[1;32m      4\u001b[0m     \u001b[0mpassword\u001b[0m \u001b[0;34m=\u001b[0m \u001b[0mf\u001b[0m\u001b[0;34m.\u001b[0m\u001b[0mreadline\u001b[0m\u001b[0;34m(\u001b[0m\u001b[0;34m)\u001b[0m\u001b[0;34m.\u001b[0m\u001b[0mstrip\u001b[0m\u001b[0;34m(\u001b[0m\u001b[0;34m)\u001b[0m\u001b[0;34m\u001b[0m\u001b[0;34m\u001b[0m\u001b[0m\n\u001b[1;32m      5\u001b[0m    \u001b[0;31m### 계정 정보 수정 필요\u001b[0m\u001b[0;34m\u001b[0m\u001b[0;34m\u001b[0m\u001b[0m\n\u001b[0;32m----> 6\u001b[0;31m \u001b[0minput_id\u001b[0m \u001b[0;34m=\u001b[0m \u001b[0mdriver\u001b[0m\u001b[0;34m.\u001b[0m\u001b[0mfind_elements_by_css_selector\u001b[0m\u001b[0;34m(\u001b[0m\u001b[0;34m'input._2hvTZ.pexuQ.zyHYP'\u001b[0m\u001b[0;34m)\u001b[0m\u001b[0;34m[\u001b[0m\u001b[0;36m0\u001b[0m\u001b[0;34m]\u001b[0m\u001b[0;34m\u001b[0m\u001b[0;34m\u001b[0m\u001b[0m\n\u001b[0m\u001b[1;32m      7\u001b[0m \u001b[0minput_id\u001b[0m\u001b[0;34m.\u001b[0m\u001b[0mclear\u001b[0m\u001b[0;34m(\u001b[0m\u001b[0;34m)\u001b[0m\u001b[0;34m\u001b[0m\u001b[0;34m\u001b[0m\u001b[0m\n\u001b[1;32m      8\u001b[0m \u001b[0mtime\u001b[0m\u001b[0;34m.\u001b[0m\u001b[0msleep\u001b[0m\u001b[0;34m(\u001b[0m\u001b[0;36m0.3\u001b[0m\u001b[0;34m)\u001b[0m\u001b[0;34m\u001b[0m\u001b[0;34m\u001b[0m\u001b[0m\n",
      "\u001b[0;31mIndexError\u001b[0m: list index out of range"
     ]
    }
   ],
   "source": [
    "# 예제 5-3 인스타계정으로 로그인하기\n",
    "with open('private', 'r') as f:\n",
    "    email = f.readline().strip()\n",
    "    password = f.readline().strip()\n",
    "   ### 계정 정보 수정 필요\n",
    "input_id = driver.find_elements_by_css_selector('input._2hvTZ.pexuQ.zyHYP')[0]\n",
    "input_id.clear()\n",
    "time.sleep(0.3)\n",
    "input_id.send_keys(email)\n",
    "\n",
    " ### 비번 정보 수정 필요\n",
    "input_pw = driver.find_elements_by_css_selector('input._2hvTZ.pexuQ.zyHYP')[1]\n",
    "input_pw.clear()\n",
    "time.sleep(0.3)\n",
    "input_pw.send_keys(password)\n",
    "input_pw.submit()\n",
    "time.sleep(3)\n"
   ]
  },
  {
   "cell_type": "code",
   "execution_count": 121,
   "id": "7c6b56d0",
   "metadata": {},
   "outputs": [
    {
     "name": "stderr",
     "output_type": "stream",
     "text": [
      "/var/folders/t9/xwt11y1x3v15mbvgvf002ntw0000gn/T/ipykernel_2335/969738591.py:2: DeprecationWarning: find_elements_by_css_selector is deprecated. Please use find_elements(by=By.CSS_SELECTOR, value=css_selector) instead\n",
      "  button = driver.find_elements_by_css_selector('button.sqdOP.yWX7d.y3zKF')[0]\n"
     ]
    }
   ],
   "source": [
    "# 로그인 정보 저장하겠냐는 메세지 \n",
    "button = driver.find_elements_by_css_selector('button.sqdOP.yWX7d.y3zKF')[0]\n",
    "button.click()"
   ]
  },
  {
   "cell_type": "code",
   "execution_count": 123,
   "id": "08dcb27d",
   "metadata": {},
   "outputs": [
    {
     "name": "stderr",
     "output_type": "stream",
     "text": [
      "/var/folders/t9/xwt11y1x3v15mbvgvf002ntw0000gn/T/ipykernel_2335/3998898526.py:2: DeprecationWarning: find_elements_by_css_selector is deprecated. Please use find_elements(by=By.CSS_SELECTOR, value=css_selector) instead\n",
      "  button = driver.find_elements_by_css_selector('.aOOlW.HoLwm')[0]\n"
     ]
    }
   ],
   "source": [
    "# 알림을 키라는 메세지에 싫다는 의사를 내비치자!\n",
    "button = driver.find_elements_by_css_selector('.aOOlW.HoLwm')[0]\n",
    "button.click()"
   ]
  },
  {
   "cell_type": "code",
   "execution_count": 124,
   "id": "baa0b3fd",
   "metadata": {},
   "outputs": [],
   "source": [
    "# 예제 5-4 검색결과 URL 만드는 함수\n",
    "def insta_searching(word):\n",
    "    \n",
    "    url = 'https://www.instagram.com/explore/tags/' + word\n",
    "    return url    "
   ]
  },
  {
   "cell_type": "code",
   "execution_count": 125,
   "id": "3ceef375",
   "metadata": {},
   "outputs": [],
   "source": [
    "# 예제 5-5 검색결과 페이지 접속하기\n",
    "word = \"제주도맛집\"\n",
    "url = insta_searching(word)\n",
    "driver.get(url)"
   ]
  },
  {
   "cell_type": "code",
   "execution_count": 127,
   "id": "1d67cef2",
   "metadata": {},
   "outputs": [
    {
     "name": "stderr",
     "output_type": "stream",
     "text": [
      "/var/folders/t9/xwt11y1x3v15mbvgvf002ntw0000gn/T/ipykernel_2335/113188795.py:3: DeprecationWarning: find_element_by_css_selector is deprecated. Please use find_element(by=By.CSS_SELECTOR, value=css_selector) instead\n",
      "  first = driver.find_element_by_css_selector(\"div._9AhH0\")\n"
     ]
    }
   ],
   "source": [
    "# 예제 5-6 HTML에서 첫번째 게시글 찾아 클릭하기\n",
    "def select_first(driver):\n",
    "    first = driver.find_element_by_css_selector(\"div._9AhH0\")\n",
    "    first.click()\n",
    "    time.sleep(1)\n",
    "    \n",
    "select_first(driver)"
   ]
  },
  {
   "cell_type": "code",
   "execution_count": 128,
   "id": "e5c96436",
   "metadata": {},
   "outputs": [
    {
     "data": {
      "text/plain": [
       "[\"hnn6yhjk5광고)제주공항에서 진~짜가깝고 개별룸이 많아서 더 좋고맛있는 도민맛집으로유명한 '연동대게회타운'낮2시부터 ~라스트오더는 밤 12시까지개인룸에서 맘편하게 먹자!!🙊이야.. 살이 꽉 차있네소리가 절로나오는탱글 쫄깃한💦속살에⠀녹~찐한 내장까지증말 스릉흔다❤❤⠀밑반찬 구성도푸짐하니 다양하게즐길 수 있어 좋고!⠀살이꽉찬 대게&킹크랩 맛집👏⠀개별룸 형식으로걱정🙅 ♀없이 먹는'연동대게회타운'⠀🧭연동대게회타운*제주 제주시 신대로 125*064-903-1889#제주도맛집#제주맛집#제주공항근처맛집#제주골프#제주도골프#제주여행#제주도여행#제주#제주도#제주시맛집#제주시#제주도민맛집#제주공항#제주도공항3시간\",\n",
       " '2022-05-10',\n",
       " '여러 명',\n",
       " '',\n",
       " ['#제주도맛집',\n",
       "  '#제주맛집',\n",
       "  '#제주공항근처맛집',\n",
       "  '#제주골프',\n",
       "  '#제주도골프',\n",
       "  '#제주여행',\n",
       "  '#제주도여행',\n",
       "  '#제주',\n",
       "  '#제주도',\n",
       "  '#제주시맛집',\n",
       "  '#제주시',\n",
       "  '#제주도민맛집',\n",
       "  '#제주공항',\n",
       "  '#제주도공항3시간']]"
      ]
     },
     "execution_count": 128,
     "metadata": {},
     "output_type": "execute_result"
    }
   ],
   "source": [
    "# 예제 5-7 게시글 정보 가져오기\n",
    "import re\n",
    "from bs4 import BeautifulSoup\n",
    "import unicodedata\n",
    "\n",
    "def get_content(driver):\n",
    "    # ① 현재 페이지 html 정보 가져오기\n",
    "    html = driver.page_source\n",
    "    soup = BeautifulSoup(html, 'html.parser')\n",
    "    # ② 본문 내용 가져오기\n",
    "    try:\n",
    "        content = soup.select('div.C4VMK')[0].text\n",
    "        # content = unicodedata.normalize('NFC', content) \n",
    "    except:\n",
    "        content = ' '\n",
    "    # ③ 본문 내용에서 해시태그 가져오기(정규식 활용)\n",
    "    tags = re.findall(r'#[^\\s#,\\\\]+', content)  \n",
    "    # ④ 작성일자 정보 가져오기\n",
    "    date = soup.select('time._1o9PC')[0]['datetime'][:10]\n",
    "    # ⑤ 좋아요 수 가져오기\n",
    "    try: \n",
    "        # _7UhW9   xLCgt      MMzan   KV-D4           uL8Hv        T0kll # 이름\n",
    "        # _7UhW9   xLCgt        qyrsm KV-D4               fDxYl    T0kll # 수\n",
    "        # _7UhW9   xLCgt        qyrsm KV-D4           uL8Hv        T0kll # views \n",
    "        \n",
    "        like = soup.select('div._7UhW9.xLCgt.qyrsm.fDxYl')[0].text#[0].text[4:-1] \n",
    "#         like = soup.select('div._7UhW9.xLCgt.qyrsm.KV-D4.fDxYl.T0kll > span')[0].text\n",
    "\n",
    "    except:\n",
    "        like = 0\n",
    "    # ⑥ 위치정보 가져오기\n",
    "    try: \n",
    "        place = soup.select('div.M30cS')[0].text\n",
    "        place = unicodedata.normalize('NFC', place)\n",
    "    except:\n",
    "        place = ''\n",
    "    # ⑦ 수집한 정보 저장하기\n",
    "    data = [content, date, like, place, tags]\n",
    "    return data\n",
    "\n",
    "get_content(driver)"
   ]
  },
  {
   "cell_type": "code",
   "execution_count": 132,
   "id": "c21ad223",
   "metadata": {},
   "outputs": [
    {
     "name": "stderr",
     "output_type": "stream",
     "text": [
      "/var/folders/t9/xwt11y1x3v15mbvgvf002ntw0000gn/T/ipykernel_2335/59426163.py:12: DeprecationWarning: find_element_by_css_selector is deprecated. Please use find_element(by=By.CSS_SELECTOR, value=css_selector) instead\n",
      "  right = driver.find_element_by_css_selector('.l8mY4 button')\n"
     ]
    }
   ],
   "source": [
    "# 예제 5-8 다음 게시글 열기\n",
    "# def move_next(driver):\n",
    "\n",
    "#     right = driver.find_element_by_css_selector ('a.coreSpriteRightPaginationArrow')\n",
    "#     right.click()\n",
    "#     time.sleep(3)\n",
    "\n",
    "# move_next(driver)\n",
    "\n",
    "def move_next(driver):\n",
    "\n",
    "    right = driver.find_element_by_css_selector('.l8mY4 button')\n",
    "    # print(right)\n",
    "    right.send_keys('\\n')\n",
    "    time.sleep(1)\n",
    "\n",
    "move_next(driver)"
   ]
  },
  {
   "cell_type": "code",
   "execution_count": 76,
   "id": "b959d026",
   "metadata": {},
   "outputs": [
    {
     "name": "stderr",
     "output_type": "stream",
     "text": [
      "/var/folders/t9/xwt11y1x3v15mbvgvf002ntw0000gn/T/ipykernel_2335/3143169258.py:2: DeprecationWarning: find_element_by_css_selector is deprecated. Please use find_element(by=By.CSS_SELECTOR, value=css_selector) instead\n",
      "  right = driver.find_element_by_css_selector('.l8mY4 feth3 button')\n"
     ]
    },
    {
     "ename": "NoSuchElementException",
     "evalue": "Message: no such element: Unable to locate element: {\"method\":\"css selector\",\"selector\":\".l8mY4 feth3 button\"}\n  (Session info: chrome=101.0.4951.54)\nStacktrace:\n0   chromedriver                        0x0000000104b1d319 chromedriver + 5124889\n1   chromedriver                        0x0000000104aabf03 chromedriver + 4660995\n2   chromedriver                        0x000000010469a138 chromedriver + 393528\n3   chromedriver                        0x00000001046cee9d chromedriver + 609949\n4   chromedriver                        0x00000001046cf121 chromedriver + 610593\n5   chromedriver                        0x0000000104701164 chromedriver + 815460\n6   chromedriver                        0x00000001046ec43d chromedriver + 730173\n7   chromedriver                        0x00000001046feeb1 chromedriver + 806577\n8   chromedriver                        0x00000001046ec303 chromedriver + 729859\n9   chromedriver                        0x00000001046c25b9 chromedriver + 558521\n10  chromedriver                        0x00000001046c35e5 chromedriver + 562661\n11  chromedriver                        0x0000000104aefded chromedriver + 4939245\n12  chromedriver                        0x0000000104af47c2 chromedriver + 4958146\n13  chromedriver                        0x0000000104af96bf chromedriver + 4978367\n14  chromedriver                        0x0000000104af52aa chromedriver + 4960938\n15  chromedriver                        0x0000000104acf89c chromedriver + 4806812\n16  chromedriver                        0x0000000104b0ec48 chromedriver + 5065800\n17  chromedriver                        0x0000000104b0edcf chromedriver + 5066191\n18  chromedriver                        0x0000000104b24525 chromedriver + 5154085\n19  libsystem_pthread.dylib             0x00007fff613e32eb _pthread_body + 126\n20  libsystem_pthread.dylib             0x00007fff613e6249 _pthread_start + 66\n21  libsystem_pthread.dylib             0x00007fff613e240d thread_start + 13\n",
     "output_type": "error",
     "traceback": [
      "\u001b[0;31m---------------------------------------------------------------------------\u001b[0m",
      "\u001b[0;31mNoSuchElementException\u001b[0m                    Traceback (most recent call last)",
      "\u001b[0;32m/var/folders/t9/xwt11y1x3v15mbvgvf002ntw0000gn/T/ipykernel_2335/2555760010.py\u001b[0m in \u001b[0;36m<module>\u001b[0;34m\u001b[0m\n\u001b[1;32m      8\u001b[0m         \u001b[0mresults\u001b[0m\u001b[0;34m.\u001b[0m\u001b[0mappend\u001b[0m\u001b[0;34m(\u001b[0m\u001b[0mdata\u001b[0m\u001b[0;34m)\u001b[0m\u001b[0;34m\u001b[0m\u001b[0;34m\u001b[0m\u001b[0m\n\u001b[0;32m----> 9\u001b[0;31m         \u001b[0mmove_next\u001b[0m\u001b[0;34m(\u001b[0m\u001b[0mdriver\u001b[0m\u001b[0;34m)\u001b[0m\u001b[0;34m\u001b[0m\u001b[0;34m\u001b[0m\u001b[0m\n\u001b[0m\u001b[1;32m     10\u001b[0m     \u001b[0;32mexcept\u001b[0m\u001b[0;34m:\u001b[0m\u001b[0;34m\u001b[0m\u001b[0;34m\u001b[0m\u001b[0m\n",
      "\u001b[0;32m/var/folders/t9/xwt11y1x3v15mbvgvf002ntw0000gn/T/ipykernel_2335/3143169258.py\u001b[0m in \u001b[0;36mmove_next\u001b[0;34m(driver)\u001b[0m\n\u001b[1;32m      1\u001b[0m \u001b[0;32mdef\u001b[0m \u001b[0mmove_next\u001b[0m\u001b[0;34m(\u001b[0m\u001b[0mdriver\u001b[0m\u001b[0;34m)\u001b[0m\u001b[0;34m:\u001b[0m\u001b[0;34m\u001b[0m\u001b[0;34m\u001b[0m\u001b[0m\n\u001b[0;32m----> 2\u001b[0;31m     \u001b[0mright\u001b[0m \u001b[0;34m=\u001b[0m \u001b[0mdriver\u001b[0m\u001b[0;34m.\u001b[0m\u001b[0mfind_element_by_css_selector\u001b[0m\u001b[0;34m(\u001b[0m\u001b[0;34m'.l8mY4 feth3 button'\u001b[0m\u001b[0;34m)\u001b[0m\u001b[0;34m\u001b[0m\u001b[0;34m\u001b[0m\u001b[0m\n\u001b[0m\u001b[1;32m      3\u001b[0m     \u001b[0mright\u001b[0m\u001b[0;34m.\u001b[0m\u001b[0mclick\u001b[0m\u001b[0;34m(\u001b[0m\u001b[0;34m)\u001b[0m\u001b[0;34m\u001b[0m\u001b[0;34m\u001b[0m\u001b[0m\n",
      "\u001b[0;32m/opt/anaconda3/lib/python3.9/site-packages/selenium/webdriver/remote/webdriver.py\u001b[0m in \u001b[0;36mfind_element_by_css_selector\u001b[0;34m(self, css_selector)\u001b[0m\n\u001b[1;32m    813\u001b[0m         )\n\u001b[0;32m--> 814\u001b[0;31m         \u001b[0;32mreturn\u001b[0m \u001b[0mself\u001b[0m\u001b[0;34m.\u001b[0m\u001b[0mfind_element\u001b[0m\u001b[0;34m(\u001b[0m\u001b[0mby\u001b[0m\u001b[0;34m=\u001b[0m\u001b[0mBy\u001b[0m\u001b[0;34m.\u001b[0m\u001b[0mCSS_SELECTOR\u001b[0m\u001b[0;34m,\u001b[0m \u001b[0mvalue\u001b[0m\u001b[0;34m=\u001b[0m\u001b[0mcss_selector\u001b[0m\u001b[0;34m)\u001b[0m\u001b[0;34m\u001b[0m\u001b[0;34m\u001b[0m\u001b[0m\n\u001b[0m\u001b[1;32m    815\u001b[0m \u001b[0;34m\u001b[0m\u001b[0m\n",
      "\u001b[0;32m/opt/anaconda3/lib/python3.9/site-packages/selenium/webdriver/remote/webdriver.py\u001b[0m in \u001b[0;36mfind_element\u001b[0;34m(self, by, value)\u001b[0m\n\u001b[1;32m   1250\u001b[0m \u001b[0;34m\u001b[0m\u001b[0m\n\u001b[0;32m-> 1251\u001b[0;31m         return self.execute(Command.FIND_ELEMENT, {\n\u001b[0m\u001b[1;32m   1252\u001b[0m             \u001b[0;34m'using'\u001b[0m\u001b[0;34m:\u001b[0m \u001b[0mby\u001b[0m\u001b[0;34m,\u001b[0m\u001b[0;34m\u001b[0m\u001b[0;34m\u001b[0m\u001b[0m\n",
      "\u001b[0;32m/opt/anaconda3/lib/python3.9/site-packages/selenium/webdriver/remote/webdriver.py\u001b[0m in \u001b[0;36mexecute\u001b[0;34m(self, driver_command, params)\u001b[0m\n\u001b[1;32m    429\u001b[0m         \u001b[0;32mif\u001b[0m \u001b[0mresponse\u001b[0m\u001b[0;34m:\u001b[0m\u001b[0;34m\u001b[0m\u001b[0;34m\u001b[0m\u001b[0m\n\u001b[0;32m--> 430\u001b[0;31m             \u001b[0mself\u001b[0m\u001b[0;34m.\u001b[0m\u001b[0merror_handler\u001b[0m\u001b[0;34m.\u001b[0m\u001b[0mcheck_response\u001b[0m\u001b[0;34m(\u001b[0m\u001b[0mresponse\u001b[0m\u001b[0;34m)\u001b[0m\u001b[0;34m\u001b[0m\u001b[0;34m\u001b[0m\u001b[0m\n\u001b[0m\u001b[1;32m    431\u001b[0m             response['value'] = self._unwrap_value(\n",
      "\u001b[0;32m/opt/anaconda3/lib/python3.9/site-packages/selenium/webdriver/remote/errorhandler.py\u001b[0m in \u001b[0;36mcheck_response\u001b[0;34m(self, response)\u001b[0m\n\u001b[1;32m    246\u001b[0m             \u001b[0;32mraise\u001b[0m \u001b[0mexception_class\u001b[0m\u001b[0;34m(\u001b[0m\u001b[0mmessage\u001b[0m\u001b[0;34m,\u001b[0m \u001b[0mscreen\u001b[0m\u001b[0;34m,\u001b[0m \u001b[0mstacktrace\u001b[0m\u001b[0;34m,\u001b[0m \u001b[0malert_text\u001b[0m\u001b[0;34m)\u001b[0m  \u001b[0;31m# type: ignore[call-arg]  # mypy is not smart enough here\u001b[0m\u001b[0;34m\u001b[0m\u001b[0;34m\u001b[0m\u001b[0m\n\u001b[0;32m--> 247\u001b[0;31m         \u001b[0;32mraise\u001b[0m \u001b[0mexception_class\u001b[0m\u001b[0;34m(\u001b[0m\u001b[0mmessage\u001b[0m\u001b[0;34m,\u001b[0m \u001b[0mscreen\u001b[0m\u001b[0;34m,\u001b[0m \u001b[0mstacktrace\u001b[0m\u001b[0;34m)\u001b[0m\u001b[0;34m\u001b[0m\u001b[0;34m\u001b[0m\u001b[0m\n\u001b[0m\u001b[1;32m    248\u001b[0m \u001b[0;34m\u001b[0m\u001b[0m\n",
      "\u001b[0;31mNoSuchElementException\u001b[0m: Message: no such element: Unable to locate element: {\"method\":\"css selector\",\"selector\":\".l8mY4 feth3 button\"}\n  (Session info: chrome=101.0.4951.54)\nStacktrace:\n0   chromedriver                        0x0000000104b1d319 chromedriver + 5124889\n1   chromedriver                        0x0000000104aabf03 chromedriver + 4660995\n2   chromedriver                        0x000000010469a138 chromedriver + 393528\n3   chromedriver                        0x00000001046cee9d chromedriver + 609949\n4   chromedriver                        0x00000001046cf121 chromedriver + 610593\n5   chromedriver                        0x0000000104701164 chromedriver + 815460\n6   chromedriver                        0x00000001046ec43d chromedriver + 730173\n7   chromedriver                        0x00000001046feeb1 chromedriver + 806577\n8   chromedriver                        0x00000001046ec303 chromedriver + 729859\n9   chromedriver                        0x00000001046c25b9 chromedriver + 558521\n10  chromedriver                        0x00000001046c35e5 chromedriver + 562661\n11  chromedriver                        0x0000000104aefded chromedriver + 4939245\n12  chromedriver                        0x0000000104af47c2 chromedriver + 4958146\n13  chromedriver                        0x0000000104af96bf chromedriver + 4978367\n14  chromedriver                        0x0000000104af52aa chromedriver + 4960938\n15  chromedriver                        0x0000000104acf89c chromedriver + 4806812\n16  chromedriver                        0x0000000104b0ec48 chromedriver + 5065800\n17  chromedriver                        0x0000000104b0edcf chromedriver + 5066191\n18  chromedriver                        0x0000000104b24525 chromedriver + 5154085\n19  libsystem_pthread.dylib             0x00007fff613e32eb _pthread_body + 126\n20  libsystem_pthread.dylib             0x00007fff613e6249 _pthread_start + 66\n21  libsystem_pthread.dylib             0x00007fff613e240d thread_start + 13\n",
      "\nDuring handling of the above exception, another exception occurred:\n",
      "\u001b[0;31mNoSuchElementException\u001b[0m                    Traceback (most recent call last)",
      "\u001b[0;32m/var/folders/t9/xwt11y1x3v15mbvgvf002ntw0000gn/T/ipykernel_2335/2555760010.py\u001b[0m in \u001b[0;36m<module>\u001b[0;34m\u001b[0m\n\u001b[1;32m     10\u001b[0m     \u001b[0;32mexcept\u001b[0m\u001b[0;34m:\u001b[0m\u001b[0;34m\u001b[0m\u001b[0;34m\u001b[0m\u001b[0m\n\u001b[1;32m     11\u001b[0m         \u001b[0mtime\u001b[0m\u001b[0;34m.\u001b[0m\u001b[0msleep\u001b[0m\u001b[0;34m(\u001b[0m\u001b[0;36m2\u001b[0m\u001b[0;34m)\u001b[0m\u001b[0;34m\u001b[0m\u001b[0;34m\u001b[0m\u001b[0m\n\u001b[0;32m---> 12\u001b[0;31m         \u001b[0mmove_next\u001b[0m\u001b[0;34m(\u001b[0m\u001b[0mdriver\u001b[0m\u001b[0;34m)\u001b[0m\u001b[0;34m\u001b[0m\u001b[0;34m\u001b[0m\u001b[0m\n\u001b[0m",
      "\u001b[0;32m/var/folders/t9/xwt11y1x3v15mbvgvf002ntw0000gn/T/ipykernel_2335/3143169258.py\u001b[0m in \u001b[0;36mmove_next\u001b[0;34m(driver)\u001b[0m\n\u001b[1;32m      1\u001b[0m \u001b[0;32mdef\u001b[0m \u001b[0mmove_next\u001b[0m\u001b[0;34m(\u001b[0m\u001b[0mdriver\u001b[0m\u001b[0;34m)\u001b[0m\u001b[0;34m:\u001b[0m\u001b[0;34m\u001b[0m\u001b[0;34m\u001b[0m\u001b[0m\n\u001b[0;32m----> 2\u001b[0;31m     \u001b[0mright\u001b[0m \u001b[0;34m=\u001b[0m \u001b[0mdriver\u001b[0m\u001b[0;34m.\u001b[0m\u001b[0mfind_element_by_css_selector\u001b[0m\u001b[0;34m(\u001b[0m\u001b[0;34m'.l8mY4 feth3 button'\u001b[0m\u001b[0;34m)\u001b[0m\u001b[0;34m\u001b[0m\u001b[0;34m\u001b[0m\u001b[0m\n\u001b[0m\u001b[1;32m      3\u001b[0m     \u001b[0mright\u001b[0m\u001b[0;34m.\u001b[0m\u001b[0mclick\u001b[0m\u001b[0;34m(\u001b[0m\u001b[0;34m)\u001b[0m\u001b[0;34m\u001b[0m\u001b[0;34m\u001b[0m\u001b[0m\n\u001b[1;32m      4\u001b[0m \u001b[0;34m\u001b[0m\u001b[0m\n\u001b[1;32m      5\u001b[0m \u001b[0mmove_next\u001b[0m\u001b[0;34m(\u001b[0m\u001b[0mdriver\u001b[0m\u001b[0;34m)\u001b[0m\u001b[0;34m\u001b[0m\u001b[0;34m\u001b[0m\u001b[0m\n",
      "\u001b[0;32m/opt/anaconda3/lib/python3.9/site-packages/selenium/webdriver/remote/webdriver.py\u001b[0m in \u001b[0;36mfind_element_by_css_selector\u001b[0;34m(self, css_selector)\u001b[0m\n\u001b[1;32m    812\u001b[0m             \u001b[0mstacklevel\u001b[0m\u001b[0;34m=\u001b[0m\u001b[0;36m2\u001b[0m\u001b[0;34m,\u001b[0m\u001b[0;34m\u001b[0m\u001b[0;34m\u001b[0m\u001b[0m\n\u001b[1;32m    813\u001b[0m         )\n\u001b[0;32m--> 814\u001b[0;31m         \u001b[0;32mreturn\u001b[0m \u001b[0mself\u001b[0m\u001b[0;34m.\u001b[0m\u001b[0mfind_element\u001b[0m\u001b[0;34m(\u001b[0m\u001b[0mby\u001b[0m\u001b[0;34m=\u001b[0m\u001b[0mBy\u001b[0m\u001b[0;34m.\u001b[0m\u001b[0mCSS_SELECTOR\u001b[0m\u001b[0;34m,\u001b[0m \u001b[0mvalue\u001b[0m\u001b[0;34m=\u001b[0m\u001b[0mcss_selector\u001b[0m\u001b[0;34m)\u001b[0m\u001b[0;34m\u001b[0m\u001b[0;34m\u001b[0m\u001b[0m\n\u001b[0m\u001b[1;32m    815\u001b[0m \u001b[0;34m\u001b[0m\u001b[0m\n\u001b[1;32m    816\u001b[0m     \u001b[0;32mdef\u001b[0m \u001b[0mfind_elements_by_css_selector\u001b[0m\u001b[0;34m(\u001b[0m\u001b[0mself\u001b[0m\u001b[0;34m,\u001b[0m \u001b[0mcss_selector\u001b[0m\u001b[0;34m)\u001b[0m \u001b[0;34m->\u001b[0m \u001b[0mList\u001b[0m\u001b[0;34m[\u001b[0m\u001b[0mWebElement\u001b[0m\u001b[0;34m]\u001b[0m\u001b[0;34m:\u001b[0m\u001b[0;34m\u001b[0m\u001b[0;34m\u001b[0m\u001b[0m\n",
      "\u001b[0;32m/opt/anaconda3/lib/python3.9/site-packages/selenium/webdriver/remote/webdriver.py\u001b[0m in \u001b[0;36mfind_element\u001b[0;34m(self, by, value)\u001b[0m\n\u001b[1;32m   1249\u001b[0m             \u001b[0mvalue\u001b[0m \u001b[0;34m=\u001b[0m \u001b[0;34m'[name=\"%s\"]'\u001b[0m \u001b[0;34m%\u001b[0m \u001b[0mvalue\u001b[0m\u001b[0;34m\u001b[0m\u001b[0;34m\u001b[0m\u001b[0m\n\u001b[1;32m   1250\u001b[0m \u001b[0;34m\u001b[0m\u001b[0m\n\u001b[0;32m-> 1251\u001b[0;31m         return self.execute(Command.FIND_ELEMENT, {\n\u001b[0m\u001b[1;32m   1252\u001b[0m             \u001b[0;34m'using'\u001b[0m\u001b[0;34m:\u001b[0m \u001b[0mby\u001b[0m\u001b[0;34m,\u001b[0m\u001b[0;34m\u001b[0m\u001b[0;34m\u001b[0m\u001b[0m\n\u001b[1;32m   1253\u001b[0m             'value': value})['value']\n",
      "\u001b[0;32m/opt/anaconda3/lib/python3.9/site-packages/selenium/webdriver/remote/webdriver.py\u001b[0m in \u001b[0;36mexecute\u001b[0;34m(self, driver_command, params)\u001b[0m\n\u001b[1;32m    428\u001b[0m         \u001b[0mresponse\u001b[0m \u001b[0;34m=\u001b[0m \u001b[0mself\u001b[0m\u001b[0;34m.\u001b[0m\u001b[0mcommand_executor\u001b[0m\u001b[0;34m.\u001b[0m\u001b[0mexecute\u001b[0m\u001b[0;34m(\u001b[0m\u001b[0mdriver_command\u001b[0m\u001b[0;34m,\u001b[0m \u001b[0mparams\u001b[0m\u001b[0;34m)\u001b[0m\u001b[0;34m\u001b[0m\u001b[0;34m\u001b[0m\u001b[0m\n\u001b[1;32m    429\u001b[0m         \u001b[0;32mif\u001b[0m \u001b[0mresponse\u001b[0m\u001b[0;34m:\u001b[0m\u001b[0;34m\u001b[0m\u001b[0;34m\u001b[0m\u001b[0m\n\u001b[0;32m--> 430\u001b[0;31m             \u001b[0mself\u001b[0m\u001b[0;34m.\u001b[0m\u001b[0merror_handler\u001b[0m\u001b[0;34m.\u001b[0m\u001b[0mcheck_response\u001b[0m\u001b[0;34m(\u001b[0m\u001b[0mresponse\u001b[0m\u001b[0;34m)\u001b[0m\u001b[0;34m\u001b[0m\u001b[0;34m\u001b[0m\u001b[0m\n\u001b[0m\u001b[1;32m    431\u001b[0m             response['value'] = self._unwrap_value(\n\u001b[1;32m    432\u001b[0m                 response.get('value', None))\n",
      "\u001b[0;32m/opt/anaconda3/lib/python3.9/site-packages/selenium/webdriver/remote/errorhandler.py\u001b[0m in \u001b[0;36mcheck_response\u001b[0;34m(self, response)\u001b[0m\n\u001b[1;32m    245\u001b[0m                 \u001b[0malert_text\u001b[0m \u001b[0;34m=\u001b[0m \u001b[0mvalue\u001b[0m\u001b[0;34m[\u001b[0m\u001b[0;34m'alert'\u001b[0m\u001b[0;34m]\u001b[0m\u001b[0;34m.\u001b[0m\u001b[0mget\u001b[0m\u001b[0;34m(\u001b[0m\u001b[0;34m'text'\u001b[0m\u001b[0;34m)\u001b[0m\u001b[0;34m\u001b[0m\u001b[0;34m\u001b[0m\u001b[0m\n\u001b[1;32m    246\u001b[0m             \u001b[0;32mraise\u001b[0m \u001b[0mexception_class\u001b[0m\u001b[0;34m(\u001b[0m\u001b[0mmessage\u001b[0m\u001b[0;34m,\u001b[0m \u001b[0mscreen\u001b[0m\u001b[0;34m,\u001b[0m \u001b[0mstacktrace\u001b[0m\u001b[0;34m,\u001b[0m \u001b[0malert_text\u001b[0m\u001b[0;34m)\u001b[0m  \u001b[0;31m# type: ignore[call-arg]  # mypy is not smart enough here\u001b[0m\u001b[0;34m\u001b[0m\u001b[0;34m\u001b[0m\u001b[0m\n\u001b[0;32m--> 247\u001b[0;31m         \u001b[0;32mraise\u001b[0m \u001b[0mexception_class\u001b[0m\u001b[0;34m(\u001b[0m\u001b[0mmessage\u001b[0m\u001b[0;34m,\u001b[0m \u001b[0mscreen\u001b[0m\u001b[0;34m,\u001b[0m \u001b[0mstacktrace\u001b[0m\u001b[0;34m)\u001b[0m\u001b[0;34m\u001b[0m\u001b[0;34m\u001b[0m\u001b[0m\n\u001b[0m\u001b[1;32m    248\u001b[0m \u001b[0;34m\u001b[0m\u001b[0m\n\u001b[1;32m    249\u001b[0m     \u001b[0;32mdef\u001b[0m \u001b[0m_value_or_default\u001b[0m\u001b[0;34m(\u001b[0m\u001b[0mself\u001b[0m\u001b[0;34m,\u001b[0m \u001b[0mobj\u001b[0m\u001b[0;34m:\u001b[0m \u001b[0mMapping\u001b[0m\u001b[0;34m[\u001b[0m\u001b[0m_KT\u001b[0m\u001b[0;34m,\u001b[0m \u001b[0m_VT\u001b[0m\u001b[0;34m]\u001b[0m\u001b[0;34m,\u001b[0m \u001b[0mkey\u001b[0m\u001b[0;34m:\u001b[0m \u001b[0m_KT\u001b[0m\u001b[0;34m,\u001b[0m \u001b[0mdefault\u001b[0m\u001b[0;34m:\u001b[0m \u001b[0m_VT\u001b[0m\u001b[0;34m)\u001b[0m \u001b[0;34m->\u001b[0m \u001b[0m_VT\u001b[0m\u001b[0;34m:\u001b[0m\u001b[0;34m\u001b[0m\u001b[0;34m\u001b[0m\u001b[0m\n",
      "\u001b[0;31mNoSuchElementException\u001b[0m: Message: no such element: Unable to locate element: {\"method\":\"css selector\",\"selector\":\".l8mY4 feth3 button\"}\n  (Session info: chrome=101.0.4951.54)\nStacktrace:\n0   chromedriver                        0x0000000104b1d319 chromedriver + 5124889\n1   chromedriver                        0x0000000104aabf03 chromedriver + 4660995\n2   chromedriver                        0x000000010469a138 chromedriver + 393528\n3   chromedriver                        0x00000001046cee9d chromedriver + 609949\n4   chromedriver                        0x00000001046cf121 chromedriver + 610593\n5   chromedriver                        0x0000000104701164 chromedriver + 815460\n6   chromedriver                        0x00000001046ec43d chromedriver + 730173\n7   chromedriver                        0x00000001046feeb1 chromedriver + 806577\n8   chromedriver                        0x00000001046ec303 chromedriver + 729859\n9   chromedriver                        0x00000001046c25b9 chromedriver + 558521\n10  chromedriver                        0x00000001046c35e5 chromedriver + 562661\n11  chromedriver                        0x0000000104aefded chromedriver + 4939245\n12  chromedriver                        0x0000000104af47c2 chromedriver + 4958146\n13  chromedriver                        0x0000000104af96bf chromedriver + 4978367\n14  chromedriver                        0x0000000104af52aa chromedriver + 4960938\n15  chromedriver                        0x0000000104acf89c chromedriver + 4806812\n16  chromedriver                        0x0000000104b0ec48 chromedriver + 5065800\n17  chromedriver                        0x0000000104b0edcf chromedriver + 5066191\n18  chromedriver                        0x0000000104b24525 chromedriver + 5154085\n19  libsystem_pthread.dylib             0x00007fff613e32eb _pthread_body + 126\n20  libsystem_pthread.dylib             0x00007fff613e6249 _pthread_start + 66\n21  libsystem_pthread.dylib             0x00007fff613e240d thread_start + 13\n"
     ]
    }
   ],
   "source": [
    "results = [ ]\n",
    "\n",
    "target = 50      # 크롤링할 게시글 수\n",
    "for i in range(target):\n",
    "    # 게시글 수집에 오류 발생시(네트워크 문제 등의 이유로)  2초 대기 후, 다음 게시글로 넘어가도록 try, except 구문 활용\n",
    "    try:\n",
    "        data = get_content(driver)    # 게시글 정보 가져오기\n",
    "        results.append(data)\n",
    "        move_next(driver)\n",
    "    except:\n",
    "        time.sleep(2)\n",
    "        move_next(driver)"
   ]
  },
  {
   "cell_type": "code",
   "execution_count": null,
   "id": "9a365d36",
   "metadata": {},
   "outputs": [],
   "source": []
  },
  {
   "cell_type": "code",
   "execution_count": null,
   "id": "15bd71b9",
   "metadata": {},
   "outputs": [],
   "source": []
  },
  {
   "cell_type": "code",
   "execution_count": null,
   "id": "f6a3fe3c",
   "metadata": {},
   "outputs": [],
   "source": []
  },
  {
   "cell_type": "code",
   "execution_count": null,
   "id": "9d5a12e3",
   "metadata": {},
   "outputs": [],
   "source": []
  },
  {
   "cell_type": "code",
   "execution_count": null,
   "id": "ee031bac",
   "metadata": {},
   "outputs": [],
   "source": []
  }
 ],
 "metadata": {
  "kernelspec": {
   "display_name": "Python 3 (ipykernel)",
   "language": "python",
   "name": "python3"
  },
  "language_info": {
   "codemirror_mode": {
    "name": "ipython",
    "version": 3
   },
   "file_extension": ".py",
   "mimetype": "text/x-python",
   "name": "python",
   "nbconvert_exporter": "python",
   "pygments_lexer": "ipython3",
   "version": "3.9.7"
  }
 },
 "nbformat": 4,
 "nbformat_minor": 5
}
