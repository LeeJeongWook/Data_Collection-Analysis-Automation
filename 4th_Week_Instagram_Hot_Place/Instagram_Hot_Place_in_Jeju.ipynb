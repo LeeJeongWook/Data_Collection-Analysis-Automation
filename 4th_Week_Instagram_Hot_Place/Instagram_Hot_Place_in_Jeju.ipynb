{
 "cells": [
  {
   "cell_type": "code",
   "execution_count": 3,
   "id": "3f092dfa",
   "metadata": {},
   "outputs": [],
   "source": [
    "# 예제 5-1 chromedriver 열기\n",
    "import chromedriver_autoinstaller\n",
    "from selenium import webdriver\n",
    "\n",
    "chromedriver_autoinstaller.install()\n",
    "driver = webdriver.Chrome()"
   ]
  },
  {
   "cell_type": "code",
   "execution_count": 8,
   "id": "e71f0ebe",
   "metadata": {},
   "outputs": [],
   "source": [
    "# 예제 5-2 인스타그램 접속하기\n",
    "import time\n",
    "driver.get('https://www.instagram.com/')"
   ]
  },
  {
   "cell_type": "code",
   "execution_count": 6,
   "id": "85d90ef8",
   "metadata": {},
   "outputs": [
    {
     "data": {
      "text/plain": [
       "\"\\nbutton = driver.find_element_by_css_selector('#details-button')\\nbutton.click()\\nlink = driver.find_element_by_css_selector('#proceed-link')\\nlink.click()\\n\""
      ]
     },
     "execution_count": 6,
     "metadata": {},
     "output_type": "execute_result"
    }
   ],
   "source": [
    "# driver.get('#') 작동안함\n",
    "# 브라우저에서 경고창이 뜰 경우 넘어가는 코드\n",
    "'''\n",
    "button = driver.find_element_by_css_selector('#details-button')\n",
    "button.click()\n",
    "link = driver.find_element_by_css_selector('#proceed-link')\n",
    "link.click()\n",
    "'''"
   ]
  },
  {
   "cell_type": "code",
   "execution_count": 11,
   "id": "2f2c9097",
   "metadata": {},
   "outputs": [
    {
     "name": "stderr",
     "output_type": "stream",
     "text": [
      "/var/folders/t9/xwt11y1x3v15mbvgvf002ntw0000gn/T/ipykernel_2335/1086358957.py:6: DeprecationWarning: find_elements_by_css_selector is deprecated. Please use find_elements(by=By.CSS_SELECTOR, value=css_selector) instead\n",
      "  input_id = driver.find_elements_by_css_selector('input._2hvTZ.pexuQ.zyHYP')[0]\n",
      "/var/folders/t9/xwt11y1x3v15mbvgvf002ntw0000gn/T/ipykernel_2335/1086358957.py:12: DeprecationWarning: find_elements_by_css_selector is deprecated. Please use find_elements(by=By.CSS_SELECTOR, value=css_selector) instead\n",
      "  input_pw = driver.find_elements_by_css_selector('input._2hvTZ.pexuQ.zyHYP')[1]\n"
     ]
    }
   ],
   "source": [
    "# 예제 5-3 인스타계정으로 로그인하기\n",
    "with open('private', 'r') as f:\n",
    "    email = f.readline().strip()\n",
    "    password = f.readline().strip()\n",
    "   ### 계정 정보 수정 필요\n",
    "input_id = driver.find_elements_by_css_selector('input._2hvTZ.pexuQ.zyHYP')[0]\n",
    "input_id.clear()\n",
    "time.sleep(0.3)\n",
    "input_id.send_keys(email)\n",
    "\n",
    " ### 비번 정보 수정 필요\n",
    "input_pw = driver.find_elements_by_css_selector('input._2hvTZ.pexuQ.zyHYP')[1]\n",
    "input_pw.clear()\n",
    "time.sleep(0.3)\n",
    "input_pw.send_keys(password)\n",
    "input_pw.submit()\n",
    "time.sleep(3)\n"
   ]
  },
  {
   "cell_type": "code",
   "execution_count": 12,
   "id": "ebc0a8bf",
   "metadata": {},
   "outputs": [
    {
     "name": "stderr",
     "output_type": "stream",
     "text": [
      "/var/folders/t9/xwt11y1x3v15mbvgvf002ntw0000gn/T/ipykernel_2335/969738591.py:2: DeprecationWarning: find_elements_by_css_selector is deprecated. Please use find_elements(by=By.CSS_SELECTOR, value=css_selector) instead\n",
      "  button = driver.find_elements_by_css_selector('button.sqdOP.yWX7d.y3zKF')[0]\n"
     ]
    }
   ],
   "source": [
    "# 로그인 정보 저장하겠냐는 메세지 \n",
    "button = driver.find_elements_by_css_selector('button.sqdOP.yWX7d.y3zKF')[0]\n",
    "button.click()"
   ]
  },
  {
   "cell_type": "code",
   "execution_count": 13,
   "id": "6f034d60",
   "metadata": {},
   "outputs": [
    {
     "name": "stderr",
     "output_type": "stream",
     "text": [
      "/var/folders/t9/xwt11y1x3v15mbvgvf002ntw0000gn/T/ipykernel_2335/3998898526.py:2: DeprecationWarning: find_elements_by_css_selector is deprecated. Please use find_elements(by=By.CSS_SELECTOR, value=css_selector) instead\n",
      "  button = driver.find_elements_by_css_selector('.aOOlW.HoLwm')[0]\n"
     ]
    },
    {
     "ename": "IndexError",
     "evalue": "list index out of range",
     "output_type": "error",
     "traceback": [
      "\u001b[0;31m---------------------------------------------------------------------------\u001b[0m",
      "\u001b[0;31mIndexError\u001b[0m                                Traceback (most recent call last)",
      "\u001b[0;32m/var/folders/t9/xwt11y1x3v15mbvgvf002ntw0000gn/T/ipykernel_2335/3998898526.py\u001b[0m in \u001b[0;36m<module>\u001b[0;34m\u001b[0m\n\u001b[1;32m      1\u001b[0m \u001b[0;31m# 알림을 키라는 메세지에 싫다는 의사를 내비치자!\u001b[0m\u001b[0;34m\u001b[0m\u001b[0;34m\u001b[0m\u001b[0m\n\u001b[0;32m----> 2\u001b[0;31m \u001b[0mbutton\u001b[0m \u001b[0;34m=\u001b[0m \u001b[0mdriver\u001b[0m\u001b[0;34m.\u001b[0m\u001b[0mfind_elements_by_css_selector\u001b[0m\u001b[0;34m(\u001b[0m\u001b[0;34m'.aOOlW.HoLwm'\u001b[0m\u001b[0;34m)\u001b[0m\u001b[0;34m[\u001b[0m\u001b[0;36m0\u001b[0m\u001b[0;34m]\u001b[0m\u001b[0;34m\u001b[0m\u001b[0;34m\u001b[0m\u001b[0m\n\u001b[0m\u001b[1;32m      3\u001b[0m \u001b[0mbutton\u001b[0m\u001b[0;34m.\u001b[0m\u001b[0mclick\u001b[0m\u001b[0;34m(\u001b[0m\u001b[0;34m)\u001b[0m\u001b[0;34m\u001b[0m\u001b[0;34m\u001b[0m\u001b[0m\n",
      "\u001b[0;31mIndexError\u001b[0m: list index out of range"
     ]
    }
   ],
   "source": [
    "# 알림을 키라는 메세지에 싫다는 의사를 내비치자!\n",
    "button = driver.find_elements_by_css_selector('.aOOlW.HoLwm')[0]\n",
    "button.click()"
   ]
  },
  {
   "cell_type": "code",
   "execution_count": 14,
   "id": "7df4383a",
   "metadata": {},
   "outputs": [],
   "source": [
    "# 예제 5-4 검색결과 URL 만드는 함수\n",
    "def insta_searching(word):\n",
    "    \n",
    "    url = 'https://www.instagram.com/explore/tags/' + word\n",
    "    return url    "
   ]
  },
  {
   "cell_type": "code",
   "execution_count": 17,
   "id": "39e697a8",
   "metadata": {},
   "outputs": [],
   "source": [
    "# 예제 5-5 검색결과 페이지 접속하기\n",
    "word = \"제주도맛집\"\n",
    "url = insta_searching(word)\n",
    "driver.get(url)"
   ]
  },
  {
   "cell_type": "code",
   "execution_count": 18,
   "id": "8c8f6105",
   "metadata": {},
   "outputs": [
    {
     "name": "stderr",
     "output_type": "stream",
     "text": [
      "/var/folders/t9/xwt11y1x3v15mbvgvf002ntw0000gn/T/ipykernel_2335/113188795.py:3: DeprecationWarning: find_element_by_css_selector is deprecated. Please use find_element(by=By.CSS_SELECTOR, value=css_selector) instead\n",
      "  first = driver.find_element_by_css_selector(\"div._9AhH0\")\n"
     ]
    }
   ],
   "source": [
    "# 예제 5-6 HTML에서 첫번째 게시글 찾아 클릭하기\n",
    "def select_first(driver):\n",
    "    first = driver.find_element_by_css_selector(\"div._9AhH0\")\n",
    "    first.click()\n",
    "    time.sleep(1)\n",
    "    \n",
    "select_first(driver)"
   ]
  },
  {
   "cell_type": "code",
   "execution_count": 19,
   "id": "17dafa31",
   "metadata": {},
   "outputs": [
    {
     "data": {
      "text/plain": [
       "[\"hnn6yhjk5광고)제주공항에서 진~짜가깝고 개별룸이 많아서 더 좋고맛있는 도민맛집으로유명한 '연동대게회타운'낮2시부터 ~라스트오더는 밤 12시까지개인룸에서 맘편하게 먹자!!🙊이야.. 살이 꽉 차있네소리가 절로나오는탱글 쫄깃한💦속살에⠀녹~찐한 내장까지증말 스릉흔다❤❤⠀밑반찬 구성도푸짐하니 다양하게즐길 수 있어 좋고!⠀살이꽉찬 대게&킹크랩 맛집👏⠀개별룸 형식으로걱정🙅 ♀없이 먹는'연동대게회타운'⠀🧭연동대게회타운*제주 제주시 신대로 125*064-903-1889#제주도맛집#제주맛집#제주공항근처맛집#제주골프#제주도골프#제주여행#제주도여행#제주#제주도#제주시맛집#제주시#제주도민맛집#제주공항#제주도공항2시간\",\n",
       " '2022-05-10',\n",
       " '여러 명',\n",
       " '',\n",
       " ['#제주도맛집',\n",
       "  '#제주맛집',\n",
       "  '#제주공항근처맛집',\n",
       "  '#제주골프',\n",
       "  '#제주도골프',\n",
       "  '#제주여행',\n",
       "  '#제주도여행',\n",
       "  '#제주',\n",
       "  '#제주도',\n",
       "  '#제주시맛집',\n",
       "  '#제주시',\n",
       "  '#제주도민맛집',\n",
       "  '#제주공항',\n",
       "  '#제주도공항2시간']]"
      ]
     },
     "execution_count": 19,
     "metadata": {},
     "output_type": "execute_result"
    }
   ],
   "source": [
    "# 예제 5-7 게시글 정보 가져오기\n",
    "import re\n",
    "from bs4 import BeautifulSoup\n",
    "import unicodedata\n",
    "\n",
    "def get_content(driver):\n",
    "    # ① 현재 페이지 html 정보 가져오기\n",
    "    html = driver.page_source\n",
    "    soup = BeautifulSoup(html, 'html.parser')\n",
    "    # ② 본문 내용 가져오기\n",
    "    try:\n",
    "        content = soup.select('div.C4VMK')[0].text\n",
    "        # content = unicodedata.normalize('NFC', content) \n",
    "    except:\n",
    "        content = ' '\n",
    "    # ③ 본문 내용에서 해시태그 가져오기(정규식 활용)\n",
    "    tags = re.findall(r'#[^\\s#,\\\\]+', content)  \n",
    "    # ④ 작성일자 정보 가져오기\n",
    "    date = soup.select('time._1o9PC')[0]['datetime'][:10]\n",
    "    # ⑤ 좋아요 수 가져오기\n",
    "    try: \n",
    "        # _7UhW9   xLCgt      MMzan   KV-D4           uL8Hv        T0kll # 이름\n",
    "        # _7UhW9   xLCgt        qyrsm KV-D4               fDxYl    T0kll # 수\n",
    "        # _7UhW9   xLCgt        qyrsm KV-D4           uL8Hv        T0kll # views \n",
    "        like = soup.select('div._7UhW9.xLCgt.qyrsm.fDxYl')[0].text#[0].text[4:-1]   \n",
    "    except:\n",
    "        like = 0\n",
    "    # ⑥ 위치정보 가져오기\n",
    "    try: \n",
    "        place = soup.select('div.M30cS')[0].text\n",
    "        place = unicodedata.normalize('NFC', place)\n",
    "    except:\n",
    "        place = ''\n",
    "    # ⑦ 수집한 정보 저장하기\n",
    "    data = [content, date, like, place, tags]\n",
    "    return data\n",
    "\n",
    "get_content(driver)"
   ]
  },
  {
   "cell_type": "code",
   "execution_count": null,
   "id": "50bf996e",
   "metadata": {},
   "outputs": [],
   "source": []
  },
  {
   "cell_type": "code",
   "execution_count": null,
   "id": "5e951aa1",
   "metadata": {},
   "outputs": [],
   "source": []
  },
  {
   "cell_type": "code",
   "execution_count": null,
   "id": "a51d5c4d",
   "metadata": {},
   "outputs": [],
   "source": []
  },
  {
   "cell_type": "code",
   "execution_count": null,
   "id": "944c8fc6",
   "metadata": {},
   "outputs": [],
   "source": []
  },
  {
   "cell_type": "code",
   "execution_count": null,
   "id": "811a35e9",
   "metadata": {},
   "outputs": [],
   "source": []
  },
  {
   "cell_type": "code",
   "execution_count": null,
   "id": "08291bb6",
   "metadata": {},
   "outputs": [],
   "source": []
  },
  {
   "cell_type": "code",
   "execution_count": null,
   "id": "760b46c2",
   "metadata": {},
   "outputs": [],
   "source": []
  }
 ],
 "metadata": {
  "kernelspec": {
   "display_name": "Python 3 (ipykernel)",
   "language": "python",
   "name": "python3"
  },
  "language_info": {
   "codemirror_mode": {
    "name": "ipython",
    "version": 3
   },
   "file_extension": ".py",
   "mimetype": "text/x-python",
   "name": "python",
   "nbconvert_exporter": "python",
   "pygments_lexer": "ipython3",
   "version": "3.9.7"
  }
 },
 "nbformat": 4,
 "nbformat_minor": 5
}
