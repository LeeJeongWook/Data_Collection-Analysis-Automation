{
 "cells": [
  {
   "cell_type": "code",
   "execution_count": 1,
   "metadata": {},
   "outputs": [
    {
     "name": "stdout",
     "output_type": "stream",
     "text": [
      "Collecting git+https://github.com/Joeclinton1/google-images-download.git\n",
      "  Cloning https://github.com/Joeclinton1/google-images-download.git to /private/var/folders/ty/r2z1kxw13jv8p11js5w842hw0000gn/T/pip-req-build-jhruugmm\n",
      "  Running command git clone --filter=blob:none -q https://github.com/Joeclinton1/google-images-download.git /private/var/folders/ty/r2z1kxw13jv8p11js5w842hw0000gn/T/pip-req-build-jhruugmm\n",
      "  Resolved https://github.com/Joeclinton1/google-images-download.git to commit ce512d99ff4c5f74a3cfa3bcf83c6a5b05bd873f\n",
      "  Preparing metadata (setup.py) ... \u001b[?25ldone\n",
      "\u001b[?25hCollecting selenium\n",
      "  Downloading selenium-4.2.0-py3-none-any.whl (983 kB)\n",
      "     |████████████████████████████████| 983 kB 15.4 MB/s            \n",
      "\u001b[?25hCollecting trio~=0.17\n",
      "  Using cached trio-0.20.0-py3-none-any.whl (359 kB)\n",
      "Collecting trio-websocket~=0.9\n",
      "  Using cached trio_websocket-0.9.2-py3-none-any.whl (16 kB)\n",
      "Requirement already satisfied: urllib3[secure,socks]~=1.26 in /opt/homebrew/Caskroom/miniforge/base/lib/python3.9/site-packages (from selenium->google-images-download==2.8.0) (1.26.9)\n",
      "Requirement already satisfied: attrs>=19.2.0 in /opt/homebrew/Caskroom/miniforge/base/lib/python3.9/site-packages (from trio~=0.17->selenium->google-images-download==2.8.0) (21.4.0)\n",
      "Collecting outcome\n",
      "  Using cached outcome-1.1.0-py2.py3-none-any.whl (9.7 kB)\n",
      "Collecting sniffio\n",
      "  Using cached sniffio-1.2.0-py3-none-any.whl (10 kB)\n",
      "Requirement already satisfied: idna in /opt/homebrew/Caskroom/miniforge/base/lib/python3.9/site-packages (from trio~=0.17->selenium->google-images-download==2.8.0) (3.3)\n",
      "Requirement already satisfied: sortedcontainers in /opt/homebrew/Caskroom/miniforge/base/lib/python3.9/site-packages (from trio~=0.17->selenium->google-images-download==2.8.0) (2.4.0)\n",
      "Collecting async-generator>=1.9\n",
      "  Using cached async_generator-1.10-py3-none-any.whl (18 kB)\n",
      "Collecting wsproto>=0.14\n",
      "  Using cached wsproto-1.1.0-py3-none-any.whl (24 kB)\n",
      "Requirement already satisfied: PySocks!=1.5.7,<2.0,>=1.5.6 in /opt/homebrew/Caskroom/miniforge/base/lib/python3.9/site-packages (from urllib3[secure,socks]~=1.26->selenium->google-images-download==2.8.0) (1.7.1)\n",
      "Requirement already satisfied: pyOpenSSL>=0.14 in /opt/homebrew/Caskroom/miniforge/base/lib/python3.9/site-packages (from urllib3[secure,socks]~=1.26->selenium->google-images-download==2.8.0) (21.0.0)\n",
      "Requirement already satisfied: cryptography>=1.3.4 in /opt/homebrew/Caskroom/miniforge/base/lib/python3.9/site-packages (from urllib3[secure,socks]~=1.26->selenium->google-images-download==2.8.0) (36.0.0)\n",
      "Requirement already satisfied: certifi in /opt/homebrew/Caskroom/miniforge/base/lib/python3.9/site-packages (from urllib3[secure,socks]~=1.26->selenium->google-images-download==2.8.0) (2022.5.18.1)\n",
      "Requirement already satisfied: cffi>=1.12 in /opt/homebrew/Caskroom/miniforge/base/lib/python3.9/site-packages (from cryptography>=1.3.4->urllib3[secure,socks]~=1.26->selenium->google-images-download==2.8.0) (1.15.0)\n",
      "Requirement already satisfied: six>=1.5.2 in /opt/homebrew/Caskroom/miniforge/base/lib/python3.9/site-packages (from pyOpenSSL>=0.14->urllib3[secure,socks]~=1.26->selenium->google-images-download==2.8.0) (1.16.0)\n",
      "Collecting h11<1,>=0.9.0\n",
      "  Using cached h11-0.13.0-py3-none-any.whl (58 kB)\n",
      "Requirement already satisfied: pycparser in /opt/homebrew/Caskroom/miniforge/base/lib/python3.9/site-packages (from cffi>=1.12->cryptography>=1.3.4->urllib3[secure,socks]~=1.26->selenium->google-images-download==2.8.0) (2.21)\n",
      "Building wheels for collected packages: google-images-download\n",
      "  Building wheel for google-images-download (setup.py) ... \u001b[?25ldone\n",
      "\u001b[?25h  Created wheel for google-images-download: filename=google_images_download-2.8.0-py2.py3-none-any.whl size=15632 sha256=5d5d040e1df40ea375d4c5f1b237f370ed085882625f54c7730b952c1f15a164\n",
      "  Stored in directory: /private/var/folders/ty/r2z1kxw13jv8p11js5w842hw0000gn/T/pip-ephem-wheel-cache-n7b5lx0q/wheels/12/08/25/5ef0f9268dfc4d7b33b0d608cfad0b860cc2810da4fd5703c0\n",
      "Successfully built google-images-download\n",
      "Installing collected packages: sniffio, outcome, h11, async-generator, wsproto, trio, trio-websocket, selenium, google-images-download\n",
      "Successfully installed async-generator-1.10 google-images-download-2.8.0 h11-0.13.0 outcome-1.1.0 selenium-4.2.0 sniffio-1.2.0 trio-0.20.0 trio-websocket-0.9.2 wsproto-1.1.0\n",
      "Note: you may need to restart the kernel to use updated packages.\n"
     ]
    }
   ],
   "source": [
    "pip install git+https://github.com/Joeclinton1/google-images-download.git"
   ]
  },
  {
   "cell_type": "code",
   "execution_count": 2,
   "metadata": {},
   "outputs": [],
   "source": [
    "from google_images_download import google_images_download   #importing the library"
   ]
  },
  {
   "cell_type": "code",
   "execution_count": 3,
   "metadata": {},
   "outputs": [],
   "source": [
    "def googleImageCrawling(keyword, limit):\n",
    "    response = google_images_download.googleimagesdownload()   #class instantiation\n",
    "\n",
    "    arguments = {\"keywords\": keywords,\"limit\":limit,\"print_urls\":True, 'chromedriver': '/Users/moon/Coding/Crawling/chromedriver', 'format' : 'jpg'}   #creating list of arguments\n",
    "    paths = response.download(arguments)   #passing the arguments to the function\n",
    "    print(paths)   #printing absolute paths of the downloaded images"
   ]
  },
  {
   "cell_type": "code",
   "execution_count": 12,
   "metadata": {},
   "outputs": [],
   "source": [
    "keywords = 'korean'\n",
    "limit = 10"
   ]
  },
  {
   "cell_type": "code",
   "execution_count": 13,
   "metadata": {},
   "outputs": [
    {
     "name": "stdout",
     "output_type": "stream",
     "text": [
      "\n",
      "Item no.: 1 --> Item name = korean\n",
      "Evaluating...\n",
      "Starting Download...\n",
      "Image URL: https://ichef.bbci.co.uk/news/976/cpsprodpb/606F/production/_124178642_gettyimages-1210044358.jpg\n",
      "Completed Image ====> 1._124178642_gettyimages-1210044358.jpg\n",
      "Image URL: https://phototass2.cdnvideo.ru/width/1020_b9261fa1/tass/m2/en/uploads/i/20200624/1272673.jpg\n",
      "Completed Image ====> 2.1272673.jpg\n",
      "Image URL: https://www.thetimes.co.uk/imageserver/image/%2Fmethode%2Fsundaytimes%2Fprod%2Fweb%2Fbin%2Faa78c68c-2855-11ec-9d22-0dd3fe23334c.jpg?crop=1600%2C900%2C0%2C0\n",
      "Completed Image ====> 3.%2fmethode%2fsundaytimes%2fprod%2fweb%2fbin%2faa78c68c-2855-11ec-9d22-0dd3fe23334c.jpg\n",
      "Image URL: https://i.guim.co.uk/img/media/3d740b2c7bb9ffef2256ae5235b9a3b12f3f9436/0_2_2347_1408/master/2347.jpg?width=1200&height=630&quality=85&auto=format&fit=crop&overlay-align=bottom%2Cleft&overlay-width=100p&overlay-base64=L2ltZy9zdGF0aWMvb3ZlcmxheXMvdGctZGVmYXVsdC5wbmc&s=2738817f511e95fcb2c55494b617c44c\n",
      "Completed Image ====> 4.2347.jpg\n",
      "Image URL: https://static.dw.com/image/51524536_303.jpg\n",
      "Completed Image ====> 5.51524536_303.jpg\n",
      "Image URL: https://www.korea.net/upload/content/image/203dc0b40a024830be516faa83732d11_20211221142817.jpg\n",
      "Completed Image ====> 6.203dc0b40a024830be516faa83732d11_20211221142817.jpg\n",
      "Image URL: https://s.abcnews.com/images/International/DawnLee_YouTube_3-ht-ps-191213_hpEmbed_5x3_992.jpg\n",
      "Completed Image ====> 7.dawnlee_youtube_3-ht-ps-191213_hpembed_5x3_992.jpg\n",
      "Image URL: https://lh3.googleusercontent.com/E_vE-Br3ijFdJ8eSKf88aP79OSAyL8rArV_S2QKHXtRf-kq59qBYZStGEWeRpIhKEbR2bkFUuKN0xm_0fMDn-Ki5x6pi2Cik=w1200-h630-rj-pp-e365\n",
      "Completed Image ====> 8.e_ve-br3ijfdj8eskf88ap79osayl8rarv_s2qkhxtrf-kq59qbyzstgewerpihkebr2bkfuukn0xm_0fmdn-ki5x6pi2cik=w1200-h630-rj-pp-e365.jpg\n",
      "Image URL: https://api.time.com/wp-content/uploads/2022/03/lee-jae-myung-south-korea-presidential-candidate-1.jpg?quality=85&w=1920\n",
      "Completed Image ====> 9.lee-jae-myung-south-korea-presidential-candidate-1.jpg\n",
      "Image URL: https://asiasociety.org/sites/default/files/styles/1200w/public/K/korean-flag.jpg\n",
      "Completed Image ====> 10.korean-flag.jpg\n",
      "\n",
      "Errors: 0\n",
      "\n",
      "({'korean': ['/Users/moon/Coding/Crawling/downloads/korean/1._124178642_gettyimages-1210044358.jpg', '/Users/moon/Coding/Crawling/downloads/korean/2.1272673.jpg', '/Users/moon/Coding/Crawling/downloads/korean/3.%2fmethode%2fsundaytimes%2fprod%2fweb%2fbin%2faa78c68c-2855-11ec-9d22-0dd3fe23334c.jpg', '/Users/moon/Coding/Crawling/downloads/korean/4.2347.jpg', '/Users/moon/Coding/Crawling/downloads/korean/5.51524536_303.jpg', '/Users/moon/Coding/Crawling/downloads/korean/6.203dc0b40a024830be516faa83732d11_20211221142817.jpg', '/Users/moon/Coding/Crawling/downloads/korean/7.dawnlee_youtube_3-ht-ps-191213_hpembed_5x3_992.jpg', '/Users/moon/Coding/Crawling/downloads/korean/8.e_ve-br3ijfdj8eskf88ap79osayl8rarv_s2qkhxtrf-kq59qbyzstgewerpihkebr2bkfuukn0xm_0fmdn-ki5x6pi2cik=w1200-h630-rj-pp-e365.jpg', '/Users/moon/Coding/Crawling/downloads/korean/9.lee-jae-myung-south-korea-presidential-candidate-1.jpg', '/Users/moon/Coding/Crawling/downloads/korean/10.korean-flag.jpg']}, 0)\n"
     ]
    }
   ],
   "source": [
    "googleImageCrawling(keyword, int(limit))"
   ]
  }
 ],
 "metadata": {
  "interpreter": {
   "hash": "3584091cda227b8e59fda59e5fdf3aec4997f3a2464c55243d7618073e2ad776"
  },
  "kernelspec": {
   "display_name": "Python 3.8.12 ('DL-torch')",
   "language": "python",
   "name": "python3"
  },
  "language_info": {
   "codemirror_mode": {
    "name": "ipython",
    "version": 3
   },
   "file_extension": ".py",
   "mimetype": "text/x-python",
   "name": "python",
   "nbconvert_exporter": "python",
   "pygments_lexer": "ipython3",
   "version": "3.9.7"
  },
  "orig_nbformat": 4
 },
 "nbformat": 4,
 "nbformat_minor": 2
}
